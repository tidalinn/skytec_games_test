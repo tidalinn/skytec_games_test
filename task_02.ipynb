{
 "cells": [
  {
   "cell_type": "markdown",
   "metadata": {},
   "source": [
    "# Тестовое задание Data Analyst | Задание 2"
   ]
  },
  {
   "cell_type": "markdown",
   "metadata": {},
   "source": [
    "* Тестовое задание состоит из нескольких задач, которые необходимо реализовать на языке Python.\n",
    "* Допускается применение дополнительных пакетов, будет плюсом распараллелить задачи для ускорения выполнения там где это требуется.\n",
    "* Все тестовые датасеты загружаем и процессим (делаем выборки, джойны, фильтруем и т.д.) в коде.\n",
    "* Если у вас не получилось сделать какие-то шаги, но вы понимаете все остальное - пропускайте их и делайте то  в чем разбираетесь.\n",
    "* Результат выполнения - ссылка на github с jupiter notebook. Высылаем все ответы / ссылки на fediaeva@skytecgames.com. Так же напишите сколько часов у вас ушло на выполнение.\n",
    "* При возникновении вопросов по тестовому заданию - пишем туда же, на  fediaeva@skytecgames.com\n",
    "* Необходимо сделать минимум 3 задания на ваш выбор. Чем больше заданий сделали, тем лучше.\n",
    "* Тестовый датасет прилагается к письму sqlite файлом `testcase.db.zip`"
   ]
  },
  {
   "cell_type": "markdown",
   "metadata": {},
   "source": [
    "---"
   ]
  },
  {
   "cell_type": "code",
   "execution_count": 1,
   "metadata": {},
   "outputs": [],
   "source": [
    "%%capture no-display\n",
    "!pip install scipy statsmodels"
   ]
  },
  {
   "cell_type": "code",
   "execution_count": 2,
   "metadata": {},
   "outputs": [],
   "source": [
    "import numpy as np\n",
    "import pandas as pd\n",
    "\n",
    "import scipy.stats as st\n",
    "import statsmodels.stats.power as smp"
   ]
  },
  {
   "cell_type": "markdown",
   "metadata": {},
   "source": [
    "---"
   ]
  },
  {
   "cell_type": "markdown",
   "metadata": {},
   "source": [
    "## 2 Сравнение групп платящих игроков"
   ]
  },
  {
   "cell_type": "markdown",
   "metadata": {},
   "source": [
    "В мобильной игре около 10% игроков совершает платежи в первый месяц с момента установки игры (база расчета - 500 игроков). Геймдизайнеры разработали обновление которое по их экспертной оценке должно увеличить процент плательщиков с 10% до 11%. Цель эксперимента - подтвердить или опровергнуть их гипотезу.\n",
    "\n",
    "1.\tОпишите оптимальный по вашему мнению дизайн эксперимента\n",
    "2.\tРассчитайте длительность эксперимента при условии что каждый день в игру приходит около 100 новых игроков.\n",
    "3.\tСамостоятельно сгенерируйте датасет с около 10% плательщиков (контроль) и рассчитайте 95% HDI / CI.\n",
    "4.\tСгенерируйте несколько вариантов экспериментальной группы (хуже, лучше, без эффекта), рассчитайте силу эффекта, HDI / CI и ваши выводы для каждого варианта.\n",
    "5.\tРешите задачу 2 разными подходами: frequentist / bayesian\n",
    "\n",
    "Необходимо все ответы сопроводить комментариями почему вы выбрали ту или иную методику расчета, алгоритм и т.д."
   ]
  },
  {
   "cell_type": "markdown",
   "metadata": {},
   "source": [
    "Исходные данные:\n",
    "\n",
    "В первый месяц с момента установки игры | Процент | Игроков\n",
    "-|-|-\n",
    "Всего игроков | 100% | 5000\n",
    "Платежи совершают | 10% | 500\n",
    "Увеличение процента плательщиков после обновления | 11% | 550\n",
    "\n",
    "<br>\n",
    "\n",
    "Гипотезы:\n",
    "* Нулевая ($ H_0 $) - Обновление игры не увеличит процент плательщиков, и он останется на уровне 10%\n",
    "* Альтернативная ($ H_1 $) - Обновление игры увеличит процент плательщиков с 10% до 11%"
   ]
  },
  {
   "cell_type": "markdown",
   "metadata": {},
   "source": [
    "<br>\n",
    "\n",
    "### 2.1 Описание оптимального дизайна эксперимента"
   ]
  },
  {
   "cell_type": "markdown",
   "metadata": {},
   "source": [
    "><br>\n",
    "><b>Обоснование</b>\n",
    ">\n",
    ">В качестве оптимального дизайна эксперимента подходит A/B-тестирование, поскольку оно позволяет понять, приведёт ли нововведение к улучшению результатов.\n",
    "><br><br>\n",
    "\n",
    "Дизайн эксперимента:\n",
    "1. Разделить новых игроков с момента установки игры на 2 группы случайным образом с вычисленным минимальным числом пользователей в каждой (по 4913 игроков):\n",
    "    * Контрольная группа - без обновления (доля плательщиков = 10% = 0.1)\n",
    "    * Экспериментальная группа - с обновлением (ожидаемая доля плательщиков = 11% = 0.11)\n",
    "2. Отслеживать изменение доли плательщиков в каждой группе в течение вычисленной длительности эксперимента (98 дней)\n",
    "3. Сравнить долю плательщиков в обеих группах с учётом уровня статистической значимости ($ \\alpha = 0.05 $):\n",
    "    * Разница статистически значима - обновление увеличило процент плательщиков\n",
    "    * Разница статистически не значима - обновление не увеличило процент плательщиков"
   ]
  },
  {
   "cell_type": "markdown",
   "metadata": {},
   "source": [
    "<br>\n",
    "\n",
    "### 2.2 Расчёт длительности эксперимента при условии, что каждый день в игру приходит около 100 новых игроков"
   ]
  },
  {
   "cell_type": "markdown",
   "metadata": {},
   "source": [
    "Описание эксперимента:\n",
    "\n",
    "Свойство | Условное<br>обозначение | Значение\n",
    "-|-|-\n",
    "Конверсия до обновления | $ CR_{base} $ | 0.1\n",
    "Конверсия после обновления | $ CR_{new} $ | 0.11\n",
    "Уровень статистической значимости | $ \\alpha $ | 0.05\n",
    "Бета | $ \\beta  $ | 0.2\n",
    "Статистическая мощность | $ power $ | $ power = 1 - \\beta = 1 - 0.2 = 0.8 $\n",
    "Стандартное нормальное распределение для $ \\alpha $ | $ Z_{\\alpha} $ | 0.8289 (по таблице нормального распределения)<br>при двустороннем уровне значимости $ 1 - \\frac {\\alpha} {2} = 1 - \\frac {0.05}{2} = 1 - 0.025 = 0.975 $\n",
    "Стандартное нормальное распределение для $ power$ | $ Z_{\\beta} $ | 0.7881 (по таблице нормального распределения)"
   ]
  },
  {
   "cell_type": "markdown",
   "metadata": {},
   "source": [
    "Расчёт минимального размера выборки:\n",
    "$$ n = (Z_{\\alpha} + Z_{\\beta})^2 \\times \\frac { CR_{base} \\times (1 - CR_{base}) + CR_{new} \\times (1 - CR_{new}) } { (CR_{new} - CR_{base})^2 } = \\\\ \\quad \\\\ (0.8289 + 0.7881)^2 \\times \\frac { 0.1 \\times (1 - 0.1) + 0.11 \\times (1 - 0.11) } { (0.11 - 0.1)^2 } = \\\\ \\quad \\\\ (1.617)^2 \\times \\frac { 0.1 \\times 0.9 + 0.11 \\times 0.89 } { (0.01)^2 } = 2.614689 \\times \\frac { 0.09 + 0.0979 } {0.0001} = \\\\ \\quad \\\\ 2.614689 \\times \\frac {0.1879} {0.0001} = 2.614689 \\times 1879 = \\sim 4913 $$\n",
    "\n",
    "<br>\n",
    "\n",
    "Свойство | Условное<br>обозначение | Значение\n",
    "-|-|-\n",
    "Новых игроков в день | $ u_{day} $ | ~100\n",
    "Минимальный размер выборки | $ n_{min} $ | 4913\n",
    "Количество групп в эксперименте | $ k $ | 2 (контрольная + экспериментальная)\n",
    "Размер выборки | $ N $ | $ N = n_{min} \\times k = 4913 \\times 2 = 9826 $\n",
    "Длительность эксперимента | $ days $ | $ days = \\frac {N}{ u_{day} } = \\frac {9826}{ \\sim 100 } = \\sim 98 $ дней"
   ]
  },
  {
   "cell_type": "markdown",
   "metadata": {},
   "source": [
    "><br>\n",
    "><b>Вывод</b>\n",
    ">\n",
    ">Длительность эксперимента при условии, что каждый день в игру приходит около 100 новых игроков, составит 98 дней.\n",
    "<br><br>"
   ]
  },
  {
   "cell_type": "markdown",
   "metadata": {},
   "source": [
    "<br>\n",
    "\n",
    "### 2.3 Генерация датасета с около 10% плательщиков (контроль) и расчёт 95% HDI / CI"
   ]
  },
  {
   "cell_type": "markdown",
   "metadata": {},
   "source": [
    "Зададим долевое соотношение состояний игроков (плательщик или нет):"
   ]
  },
  {
   "cell_type": "code",
   "execution_count": 3,
   "metadata": {},
   "outputs": [
    {
     "data": {
      "text/html": [
       "<div>\n",
       "<style scoped>\n",
       "    .dataframe tbody tr th:only-of-type {\n",
       "        vertical-align: middle;\n",
       "    }\n",
       "\n",
       "    .dataframe tbody tr th {\n",
       "        vertical-align: top;\n",
       "    }\n",
       "\n",
       "    .dataframe thead th {\n",
       "        text-align: right;\n",
       "    }\n",
       "</style>\n",
       "<table border=\"1\" class=\"dataframe\">\n",
       "  <thead>\n",
       "    <tr style=\"text-align: right;\">\n",
       "      <th></th>\n",
       "      <th>is_payer</th>\n",
       "      <th>ratio</th>\n",
       "    </tr>\n",
       "  </thead>\n",
       "  <tbody>\n",
       "    <tr>\n",
       "      <th>0</th>\n",
       "      <td>0</td>\n",
       "      <td>0.9</td>\n",
       "    </tr>\n",
       "    <tr>\n",
       "      <th>1</th>\n",
       "      <td>1</td>\n",
       "      <td>0.1</td>\n",
       "    </tr>\n",
       "  </tbody>\n",
       "</table>\n",
       "</div>"
      ],
      "text/plain": [
       "   is_payer  ratio\n",
       "0         0    0.9\n",
       "1         1    0.1"
      ]
     },
     "execution_count": 3,
     "metadata": {},
     "output_type": "execute_result"
    }
   ],
   "source": [
    "# creating data with ration between payers and non-payers\n",
    "data_CR = pd.DataFrame.from_dict({\n",
    "    'is_payer': [0, 1], \n",
    "    'ratio': [0.9, 0.1]\n",
    "})\n",
    "\n",
    "# checking data\n",
    "data_CR"
   ]
  },
  {
   "cell_type": "markdown",
   "metadata": {},
   "source": [
    "Генерация датасета с около 10% плательщиков (контроль):"
   ]
  },
  {
   "cell_type": "code",
   "execution_count": 4,
   "metadata": {},
   "outputs": [
    {
     "data": {
      "text/html": [
       "<div>\n",
       "<style scoped>\n",
       "    .dataframe tbody tr th:only-of-type {\n",
       "        vertical-align: middle;\n",
       "    }\n",
       "\n",
       "    .dataframe tbody tr th {\n",
       "        vertical-align: top;\n",
       "    }\n",
       "\n",
       "    .dataframe thead th {\n",
       "        text-align: right;\n",
       "    }\n",
       "</style>\n",
       "<table border=\"1\" class=\"dataframe\">\n",
       "  <thead>\n",
       "    <tr style=\"text-align: right;\">\n",
       "      <th></th>\n",
       "      <th>count</th>\n",
       "      <th>ratio</th>\n",
       "    </tr>\n",
       "  </thead>\n",
       "  <tbody>\n",
       "    <tr>\n",
       "      <th>0</th>\n",
       "      <td>4506</td>\n",
       "      <td>0.9012</td>\n",
       "    </tr>\n",
       "    <tr>\n",
       "      <th>1</th>\n",
       "      <td>494</td>\n",
       "      <td>0.0988</td>\n",
       "    </tr>\n",
       "  </tbody>\n",
       "</table>\n",
       "</div>"
      ],
      "text/plain": [
       "   count   ratio\n",
       "0   4506  0.9012\n",
       "1    494  0.0988"
      ]
     },
     "execution_count": 4,
     "metadata": {},
     "output_type": "execute_result"
    }
   ],
   "source": [
    "def generate_data(data: pd.DataFrame, col: str) -> pd.Series:\n",
    "    '''Generate data with specified ratio\n",
    "        \n",
    "        Args:\n",
    "        - data (pd.DataFrame) - initial data\n",
    "        - col (str) - column name to take ratio values\n",
    "\n",
    "        Returns:\n",
    "        - pd.Series - generated sequence of payer and non-payer status of players\n",
    "    '''\n",
    "\n",
    "    sequence = np.random.choice(\n",
    "        data['is_payer'], \n",
    "        size=N_players, \n",
    "        p=data[col]\n",
    "    )\n",
    "\n",
    "    return pd.Series(sequence)\n",
    "\n",
    "\n",
    "def get_stats(data: pd.DataFrame) -> pd.DataFrame:\n",
    "    '''Get statistics of data: count and ratio\n",
    "\n",
    "        Args:\n",
    "        - data (pd.DataFRame) - initial DataFrame\n",
    "\n",
    "        Returns:\n",
    "        - pd.DataFrame - statistics of data\n",
    "    '''\n",
    "\n",
    "    vc = pd.DataFrame(data.value_counts())\n",
    "    vc_norm = pd.DataFrame(data.value_counts(normalize=True))\n",
    "\n",
    "    stats = vc.join(vc_norm)\n",
    "    stats.columns = ['count', 'ratio']\n",
    "\n",
    "    return stats\n",
    "\n",
    "\n",
    "# total players\n",
    "N_players = 5000\n",
    "\n",
    "# creating control data with 10% of payers\n",
    "data = generate_data(data_CR, 'ratio')\n",
    "\n",
    "# getting control data statistics\n",
    "data_stats = get_stats(data)\n",
    "\n",
    "# checking results\n",
    "data_stats"
   ]
  },
  {
   "cell_type": "markdown",
   "metadata": {},
   "source": [
    "Расчёт 95% HDI / CI:"
   ]
  },
  {
   "cell_type": "code",
   "execution_count": 5,
   "metadata": {},
   "outputs": [
    {
     "name": "stdout",
     "output_type": "stream",
     "text": [
      "95% HDI/CI: 0.0906/0.1072\n"
     ]
    }
   ],
   "source": [
    "# calculating binomial confidence interval\n",
    "lower, upper = st.binom.interval(0.95, N_players, data_stats.loc[1, 'ratio'])\n",
    "\n",
    "# checking results\n",
    "print(f'95% HDI/CI: {lower / N_players}/{upper / N_players}')"
   ]
  },
  {
   "cell_type": "markdown",
   "metadata": {},
   "source": [
    "><br>\n",
    "><b>Вывод</b>\n",
    ">\n",
    ">Существует вероятность 95%, что доверительный интервал содержит игроков, совершивших платежи в первый месяц после установки игры.\n",
    ">\n",
    ">Таким образом обновление игры может увеличить процент плательщиков с 10% до 11%.\n",
    "><br><br>"
   ]
  },
  {
   "cell_type": "markdown",
   "metadata": {},
   "source": [
    "<br>\n",
    "\n",
    "### 2.4 Генерация нескольких вариантов экспериментальной группы (хуже, лучше, без эффекта), расчёт силы эффекта, HDI / CI и выводы для каждого варианта"
   ]
  },
  {
   "cell_type": "markdown",
   "metadata": {},
   "source": [
    "Добавление долевых соотношений состояний игроков:"
   ]
  },
  {
   "cell_type": "code",
   "execution_count": 6,
   "metadata": {},
   "outputs": [
    {
     "data": {
      "text/html": [
       "<div>\n",
       "<style scoped>\n",
       "    .dataframe tbody tr th:only-of-type {\n",
       "        vertical-align: middle;\n",
       "    }\n",
       "\n",
       "    .dataframe tbody tr th {\n",
       "        vertical-align: top;\n",
       "    }\n",
       "\n",
       "    .dataframe thead th {\n",
       "        text-align: right;\n",
       "    }\n",
       "</style>\n",
       "<table border=\"1\" class=\"dataframe\">\n",
       "  <thead>\n",
       "    <tr style=\"text-align: right;\">\n",
       "      <th></th>\n",
       "      <th>is_payer</th>\n",
       "      <th>ratio</th>\n",
       "      <th>better</th>\n",
       "      <th>worser</th>\n",
       "      <th>no_effect</th>\n",
       "    </tr>\n",
       "  </thead>\n",
       "  <tbody>\n",
       "    <tr>\n",
       "      <th>0</th>\n",
       "      <td>0</td>\n",
       "      <td>0.9</td>\n",
       "      <td>0.88</td>\n",
       "      <td>0.91</td>\n",
       "      <td>0.9</td>\n",
       "    </tr>\n",
       "    <tr>\n",
       "      <th>1</th>\n",
       "      <td>1</td>\n",
       "      <td>0.1</td>\n",
       "      <td>0.12</td>\n",
       "      <td>0.09</td>\n",
       "      <td>0.1</td>\n",
       "    </tr>\n",
       "  </tbody>\n",
       "</table>\n",
       "</div>"
      ],
      "text/plain": [
       "   is_payer  ratio  better  worser  no_effect\n",
       "0         0    0.9    0.88    0.91        0.9\n",
       "1         1    0.1    0.12    0.09        0.1"
      ]
     },
     "execution_count": 6,
     "metadata": {},
     "output_type": "execute_result"
    }
   ],
   "source": [
    "# # creating data with ration between payers and non-payers\n",
    "data_CR['better'] = [1 - 0.12, 0.12]\n",
    "\n",
    "# creating control data with 9% of payers\n",
    "data_CR['worser'] = [1 - 0.09, 0.09]\n",
    "\n",
    "# creating control data with no effect\n",
    "data_CR['no_effect'] = [1 - 0.1, 0.1]\n",
    "\n",
    "# checking results\n",
    "data_CR"
   ]
  },
  {
   "cell_type": "markdown",
   "metadata": {},
   "source": [
    "Генерация датасета с около 12% (лучше), 9% (хуже) и 10% (без эффекта) плательщиков:"
   ]
  },
  {
   "cell_type": "code",
   "execution_count": 7,
   "metadata": {},
   "outputs": [
    {
     "data": {
      "text/html": [
       "<div>\n",
       "<style scoped>\n",
       "    .dataframe tbody tr th:only-of-type {\n",
       "        vertical-align: middle;\n",
       "    }\n",
       "\n",
       "    .dataframe tbody tr th {\n",
       "        vertical-align: top;\n",
       "    }\n",
       "\n",
       "    .dataframe thead th {\n",
       "        text-align: right;\n",
       "    }\n",
       "</style>\n",
       "<table border=\"1\" class=\"dataframe\">\n",
       "  <thead>\n",
       "    <tr style=\"text-align: right;\">\n",
       "      <th></th>\n",
       "      <th>count</th>\n",
       "      <th>ratio</th>\n",
       "      <th>count_better</th>\n",
       "      <th>ratio_better</th>\n",
       "      <th>count_worser</th>\n",
       "      <th>ratio_worser</th>\n",
       "      <th>count_no_effect</th>\n",
       "      <th>ratio_no_effect</th>\n",
       "    </tr>\n",
       "  </thead>\n",
       "  <tbody>\n",
       "    <tr>\n",
       "      <th>0</th>\n",
       "      <td>4506</td>\n",
       "      <td>0.9012</td>\n",
       "      <td>4397</td>\n",
       "      <td>0.8794</td>\n",
       "      <td>4521</td>\n",
       "      <td>0.9042</td>\n",
       "      <td>4513</td>\n",
       "      <td>0.9026</td>\n",
       "    </tr>\n",
       "    <tr>\n",
       "      <th>1</th>\n",
       "      <td>494</td>\n",
       "      <td>0.0988</td>\n",
       "      <td>603</td>\n",
       "      <td>0.1206</td>\n",
       "      <td>479</td>\n",
       "      <td>0.0958</td>\n",
       "      <td>487</td>\n",
       "      <td>0.0974</td>\n",
       "    </tr>\n",
       "  </tbody>\n",
       "</table>\n",
       "</div>"
      ],
      "text/plain": [
       "   count   ratio  count_better  ratio_better  count_worser  ratio_worser  \\\n",
       "0   4506  0.9012          4397        0.8794          4521        0.9042   \n",
       "1    494  0.0988           603        0.1206           479        0.0958   \n",
       "\n",
       "   count_no_effect  ratio_no_effect  \n",
       "0             4513           0.9026  \n",
       "1              487           0.0974  "
      ]
     },
     "execution_count": 7,
     "metadata": {},
     "output_type": "execute_result"
    }
   ],
   "source": [
    "# creating experimental group with 12% of payers\n",
    "data_better = generate_data(\n",
    "    data=data_CR[['is_payer', 'better']], \n",
    "    col='better'\n",
    ")\n",
    "\n",
    "# creating experimental group with 9% of payers\n",
    "data_worser = generate_data(\n",
    "    data=data_CR[['is_payer', 'worser']], \n",
    "    col='worser'\n",
    ")\n",
    "\n",
    "# creating experimental group with no effect\n",
    "data_no_effect = generate_data(\n",
    "    data=data_CR[['is_payer', 'no_effect']], \n",
    "    col='no_effect'\n",
    ")\n",
    "\n",
    "# getting experimental group statistics\n",
    "data_stats = data_stats.join(get_stats(data_better), rsuffix='_better')\n",
    "data_stats = data_stats.join(get_stats(data_worser), rsuffix='_worser')\n",
    "data_stats = data_stats.join(get_stats(data_no_effect), rsuffix='_no_effect')\n",
    "\n",
    "# checking results\n",
    "data_stats"
   ]
  },
  {
   "cell_type": "markdown",
   "metadata": {},
   "source": [
    "Расчёт силы эффекта и HDI/CI:"
   ]
  },
  {
   "cell_type": "code",
   "execution_count": 8,
   "metadata": {},
   "outputs": [
    {
     "name": "stdout",
     "output_type": "stream",
     "text": [
      "Power of ratio_better: 0.1059\n",
      "95% HDI/CI of ratio_better: 0.1116/0.1296\n",
      "\n",
      "Power of ratio_worser: 0.051\n",
      "95% HDI/CI of ratio_worser: 0.0878/0.104\n",
      "\n",
      "Power of ratio_no_effect: 0.0502\n",
      "95% HDI/CI of ratio_no_effect: 0.0892/0.1056\n",
      "\n"
     ]
    }
   ],
   "source": [
    "# calculating binomial confidence interval\n",
    "for col in ['ratio_better', 'ratio_worser', 'ratio_no_effect']:\n",
    "    ratio_control = data_stats.loc[1, 'ratio']\n",
    "    ratio_experiment = data_stats.loc[1, col]\n",
    "    ratio_effect = abs(ratio_experiment - ratio_control)\n",
    "\n",
    "    object = smp.TTestPower()\n",
    "\n",
    "    power = object.solve_power(\n",
    "        effect_size=ratio_effect,\n",
    "        nobs=1000,\n",
    "        alpha=0.05,\n",
    "        power=None,\n",
    "        alternative='two-sided'\n",
    "    )\n",
    "    \n",
    "    lower, upper = st.binom.interval(0.95, N_players, ratio_experiment)\n",
    "\n",
    "    print(f'Power of {col}:', round(power, 4))\n",
    "    print(f'95% HDI/CI of {col}: {lower / N_players}/{upper / N_players}')\n",
    "    print()"
   ]
  },
  {
   "cell_type": "markdown",
   "metadata": {},
   "source": [
    "><br>\n",
    "><b>Вывод</b>\n",
    ">\n",
    ">Чем выше мощность, тем больше вероятность теста выявить реальные значения:\n",
    ">* Лучше (12%) - Если истинный эффект существует, то тест обнаружил его в 12%\n",
    ">\n",
    ">Существует 95% вероятность, что обновление игры увеличит процент плательщиков до 11-13%. \n",
    ">* Хуже (9%) - Если истинный эффект существует, то тест обнаружил его в 6%\n",
    ">\n",
    ">Существует 95% вероятность, что обновление игры уменьшит процент плательщиков до 9-10%. \n",
    ">* Без эффекта (10%) - Если истинный эффект существует, то тест обнаружил его в 5%\n",
    ">\n",
    ">Существует 95% вероятность, что обновление игры уменьшит процент плательщиков до 9-10%. \n",
    "><br><br>"
   ]
  },
  {
   "cell_type": "markdown",
   "metadata": {},
   "source": [
    "<br>\n",
    "\n",
    "### 2.5 Решение задачи 2.2 разными подходами: frequentist / bayesian"
   ]
  },
  {
   "cell_type": "markdown",
   "metadata": {},
   "source": [
    "**frequentist**"
   ]
  },
  {
   "cell_type": "markdown",
   "metadata": {},
   "source": [
    "\\-"
   ]
  },
  {
   "cell_type": "markdown",
   "metadata": {},
   "source": [
    "**bayesian**"
   ]
  },
  {
   "cell_type": "markdown",
   "metadata": {},
   "source": [
    "\\-"
   ]
  }
 ],
 "metadata": {
  "kernelspec": {
   "display_name": "Python 3",
   "language": "python",
   "name": "python3"
  },
  "language_info": {
   "codemirror_mode": {
    "name": "ipython",
    "version": 3
   },
   "file_extension": ".py",
   "mimetype": "text/x-python",
   "name": "python",
   "nbconvert_exporter": "python",
   "pygments_lexer": "ipython3",
   "version": "3.10.11"
  }
 },
 "nbformat": 4,
 "nbformat_minor": 2
}
