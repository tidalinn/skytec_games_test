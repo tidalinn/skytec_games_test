{
 "cells": [
  {
   "cell_type": "markdown",
   "metadata": {},
   "source": [
    "# Тестовое задание Data Analyst | Задание 1"
   ]
  },
  {
   "cell_type": "markdown",
   "metadata": {},
   "source": [
    "* Тестовое задание состоит из нескольких задач, которые необходимо реализовать на языке Python.\n",
    "* Допускается применение дополнительных пакетов, будет плюсом распараллелить задачи для ускорения выполнения там где это требуется.\n",
    "* Все тестовые датасеты загружаем и процессим (делаем выборки, джойны, фильтруем и т.д.) в коде.\n",
    "* Если у вас не получилось сделать какие-то шаги, но вы понимаете все остальное - пропускайте их и делайте то  в чем разбираетесь.\n",
    "* Результат выполнения - ссылка на github с jupiter notebook. Высылаем все ответы / ссылки на fediaeva@skytecgames.com. Так же напишите сколько часов у вас ушло на выполнение.\n",
    "* При возникновении вопросов по тестовому заданию - пишем туда же, на  fediaeva@skytecgames.com\n",
    "* Необходимо сделать минимум 3 задания на ваш выбор. Чем больше заданий сделали, тем лучше.\n",
    "* Тестовый датасет прилагается к письму sqlite файлом `testcase.db.zip`"
   ]
  },
  {
   "cell_type": "markdown",
   "metadata": {},
   "source": [
    "---"
   ]
  },
  {
   "cell_type": "markdown",
   "metadata": {},
   "source": [
    "## 1 Успешность прототипа"
   ]
  },
  {
   "cell_type": "markdown",
   "metadata": {},
   "source": [
    "Известно что компания конкурент выпустила 1000 прототипов игр, из которых было 5 успешных. Наша компания выпустила 200 прототипов из которых ни один не был успешен.\n",
    "\n",
    "Какова вероятность что следующий (201й) наш прототип будет успешен? Решите задачу классическим и баесовским подходами."
   ]
  },
  {
   "cell_type": "markdown",
   "metadata": {},
   "source": [
    "Исходные данные:\n",
    "- | Выпущенных игр $ (N) $ | Успешных прототипов $ (s) $\n",
    "-|-|-\n",
    "Компания-конкурент $ (B) $ | 1000 | 5\n",
    "Наша компания $ (A) $ | 200 | 0\n",
    "\n",
    "Найти:\n",
    "* вероятность, что следующий (201й) наш прототип будет успешен"
   ]
  },
  {
   "cell_type": "code",
   "execution_count": 1,
   "metadata": {},
   "outputs": [],
   "source": [
    "import pandas as pd"
   ]
  },
  {
   "cell_type": "markdown",
   "metadata": {},
   "source": [
    "Создадим таблицу с исходными данными:"
   ]
  },
  {
   "cell_type": "code",
   "execution_count": 2,
   "metadata": {},
   "outputs": [
    {
     "data": {
      "text/html": [
       "<div>\n",
       "<style scoped>\n",
       "    .dataframe tbody tr th:only-of-type {\n",
       "        vertical-align: middle;\n",
       "    }\n",
       "\n",
       "    .dataframe tbody tr th {\n",
       "        vertical-align: top;\n",
       "    }\n",
       "\n",
       "    .dataframe thead th {\n",
       "        text-align: right;\n",
       "    }\n",
       "</style>\n",
       "<table border=\"1\" class=\"dataframe\">\n",
       "  <thead>\n",
       "    <tr style=\"text-align: right;\">\n",
       "      <th></th>\n",
       "      <th>total_games</th>\n",
       "      <th>success</th>\n",
       "    </tr>\n",
       "  </thead>\n",
       "  <tbody>\n",
       "    <tr>\n",
       "      <th>competitor_company</th>\n",
       "      <td>1000</td>\n",
       "      <td>5</td>\n",
       "    </tr>\n",
       "    <tr>\n",
       "      <th>our_company</th>\n",
       "      <td>200</td>\n",
       "      <td>0</td>\n",
       "    </tr>\n",
       "  </tbody>\n",
       "</table>\n",
       "</div>"
      ],
      "text/plain": [
       "                    total_games  success\n",
       "competitor_company         1000        5\n",
       "our_company                 200        0"
      ]
     },
     "execution_count": 2,
     "metadata": {},
     "output_type": "execute_result"
    }
   ],
   "source": [
    "# creating table width data\n",
    "data_01 = pd.DataFrame.from_dict({\n",
    "    'total_games': [1000, 200],\n",
    "    'success': [5, 0]\n",
    "})\n",
    "\n",
    "# changing names of indexes\n",
    "data_01.index = ['competitor_company', 'our_company']\n",
    "\n",
    "# checking results\n",
    "data_01"
   ]
  },
  {
   "cell_type": "markdown",
   "metadata": {},
   "source": [
    "<br>\n",
    "\n",
    "### 1.1 Классический подход"
   ]
  },
  {
   "cell_type": "markdown",
   "metadata": {},
   "source": [
    "**Без кода**"
   ]
  },
  {
   "cell_type": "markdown",
   "metadata": {},
   "source": [
    "Расчёт вероятности следующего прототипа:\n",
    "\n",
    "Вероятность | Значение\n",
    "-|-\n",
    "Успех нашей компании | $ P(A) = \\frac { A_s }{ A_N } = \\frac {0}{200} = 0 $\n",
    "\n",
    "<br>\n",
    "\n",
    "><br>\n",
    "><b>Вывод</b>\n",
    ">\n",
    ">Вероятность того, что следующий (201-й) наш прототип будет успешен = 0\n",
    "><br><br>"
   ]
  },
  {
   "cell_type": "markdown",
   "metadata": {},
   "source": [
    "**Python**"
   ]
  },
  {
   "cell_type": "markdown",
   "metadata": {},
   "source": [
    "Рассчитаем вероятности с помощью классического подхода:"
   ]
  },
  {
   "cell_type": "code",
   "execution_count": 3,
   "metadata": {},
   "outputs": [
    {
     "data": {
      "text/html": [
       "<div>\n",
       "<style scoped>\n",
       "    .dataframe tbody tr th:only-of-type {\n",
       "        vertical-align: middle;\n",
       "    }\n",
       "\n",
       "    .dataframe tbody tr th {\n",
       "        vertical-align: top;\n",
       "    }\n",
       "\n",
       "    .dataframe thead th {\n",
       "        text-align: right;\n",
       "    }\n",
       "</style>\n",
       "<table border=\"1\" class=\"dataframe\">\n",
       "  <thead>\n",
       "    <tr style=\"text-align: right;\">\n",
       "      <th></th>\n",
       "      <th>total_games</th>\n",
       "      <th>success</th>\n",
       "      <th>next_game_success_prob_classic</th>\n",
       "    </tr>\n",
       "  </thead>\n",
       "  <tbody>\n",
       "    <tr>\n",
       "      <th>competitor_company</th>\n",
       "      <td>1000</td>\n",
       "      <td>5</td>\n",
       "      <td>0.005</td>\n",
       "    </tr>\n",
       "    <tr>\n",
       "      <th>our_company</th>\n",
       "      <td>200</td>\n",
       "      <td>0</td>\n",
       "      <td>0.000</td>\n",
       "    </tr>\n",
       "  </tbody>\n",
       "</table>\n",
       "</div>"
      ],
      "text/plain": [
       "                    total_games  success  next_game_success_prob_classic\n",
       "competitor_company         1000        5                           0.005\n",
       "our_company                 200        0                           0.000"
      ]
     },
     "execution_count": 3,
     "metadata": {},
     "output_type": "execute_result"
    }
   ],
   "source": [
    "# calculating probabilities with classic method\n",
    "data_01['next_game_success_prob_classic'] = data_01.apply(\n",
    "    lambda x: x['success'] / x['total_games'],\n",
    "    axis=1\n",
    ")\n",
    "\n",
    "# checking results\n",
    "data_01"
   ]
  },
  {
   "cell_type": "markdown",
   "metadata": {},
   "source": [
    "<br>\n",
    "\n",
    "### 1.2 Байесовский подход"
   ]
  },
  {
   "cell_type": "markdown",
   "metadata": {},
   "source": [
    "**Без кода**"
   ]
  },
  {
   "cell_type": "markdown",
   "metadata": {},
   "source": [
    "Расчёт вероятности следующего прототипа:\n",
    "\n",
    "Вероятность | Условие | Значение\n",
    "-|-|-\n",
    "Успех нашей компании | | $ P(A) = \\frac { A_s }{ A_N } = \\frac {0}{200} = 0 $\n",
    "Успех компании-конкурента | | $ P(B) = \\frac { B_s }{ B_N } = \\frac {5}{1000} = 0.005 $\n",
    "Успех нашей компании | Успех компании-конкурента | $ P(A \\cap B) = P(B \\| A) \\times P(A) = 0 $\n",
    "Успех нашей компании | Компания-конкурент уже выпустила успешные прототипы | $ P(A \\| B) = \\frac { P(A \\cap B) } { P(B) } = \\frac {0}{0.005} = 0 $\n",
    "\n",
    "<br>\n",
    "\n",
    "><br>\n",
    "><b>Вывод</b>\n",
    ">\n",
    ">Вероятность того, что следующий (201-й) наш прототип будет успешен = 0.\n",
    "><br><br>"
   ]
  },
  {
   "cell_type": "markdown",
   "metadata": {},
   "source": [
    "**Python**"
   ]
  },
  {
   "cell_type": "markdown",
   "metadata": {},
   "source": [
    "Рассчитаем вероятности с помощью байесовского подхода:"
   ]
  },
  {
   "cell_type": "code",
   "execution_count": 4,
   "metadata": {},
   "outputs": [
    {
     "data": {
      "text/html": [
       "<div>\n",
       "<style scoped>\n",
       "    .dataframe tbody tr th:only-of-type {\n",
       "        vertical-align: middle;\n",
       "    }\n",
       "\n",
       "    .dataframe tbody tr th {\n",
       "        vertical-align: top;\n",
       "    }\n",
       "\n",
       "    .dataframe thead th {\n",
       "        text-align: right;\n",
       "    }\n",
       "</style>\n",
       "<table border=\"1\" class=\"dataframe\">\n",
       "  <thead>\n",
       "    <tr style=\"text-align: right;\">\n",
       "      <th></th>\n",
       "      <th>total_games</th>\n",
       "      <th>success</th>\n",
       "      <th>next_game_success_prob_classic</th>\n",
       "      <th>next_game_success_prob_bayes</th>\n",
       "    </tr>\n",
       "  </thead>\n",
       "  <tbody>\n",
       "    <tr>\n",
       "      <th>competitor_company</th>\n",
       "      <td>1000</td>\n",
       "      <td>5</td>\n",
       "      <td>0.005</td>\n",
       "      <td>0.0</td>\n",
       "    </tr>\n",
       "    <tr>\n",
       "      <th>our_company</th>\n",
       "      <td>200</td>\n",
       "      <td>0</td>\n",
       "      <td>0.000</td>\n",
       "      <td>0.0</td>\n",
       "    </tr>\n",
       "  </tbody>\n",
       "</table>\n",
       "</div>"
      ],
      "text/plain": [
       "                    total_games  success  next_game_success_prob_classic  \\\n",
       "competitor_company         1000        5                           0.005   \n",
       "our_company                 200        0                           0.000   \n",
       "\n",
       "                    next_game_success_prob_bayes  \n",
       "competitor_company                           0.0  \n",
       "our_company                                  0.0  "
      ]
     },
     "execution_count": 4,
     "metadata": {},
     "output_type": "execute_result"
    }
   ],
   "source": [
    "def calc_prob_bayes(data: pd.DataFrame, index_A: str) -> float:\n",
    "    '''Calculation of probabilities with Bayes algorithm\n",
    "\n",
    "        Args:\n",
    "        - data (pd.DataFrame) - initial DataFrame\n",
    "        - index_A (str) - name of a column with leading success state\n",
    "\n",
    "        Returns:\n",
    "        - float - probability of event\n",
    "    '''\n",
    "    \n",
    "    if index_A == 'our_company':\n",
    "        p_A = data.loc['our_company', 'next_game_success_prob_classic']\n",
    "        p_B = data.loc['competitor_company', 'next_game_success_prob_classic']\n",
    "    else:\n",
    "        p_A = data.loc['competitor_company', 'next_game_success_prob_classic']\n",
    "        p_B = data.loc['our_company', 'next_game_success_prob_classic']\n",
    "    \n",
    "    p_BA = 0\n",
    "    p_A_intersect_B = p_A * p_BA\n",
    "\n",
    "    if p_B > 0:\n",
    "        p_AB = p_A_intersect_B / p_B\n",
    "    else: # exception\n",
    "        p_AB = 0.0\n",
    "\n",
    "    return p_AB\n",
    "\n",
    "\n",
    "# calculating probabilities with bayes algorithm\n",
    "data_01['next_game_success_prob_bayes'] = [calc_prob_bayes(data_01, col) for col in data_01.index.values]\n",
    "\n",
    "# checking results\n",
    "data_01"
   ]
  }
 ],
 "metadata": {
  "kernelspec": {
   "display_name": "Python 3",
   "language": "python",
   "name": "python3"
  },
  "language_info": {
   "codemirror_mode": {
    "name": "ipython",
    "version": 3
   },
   "file_extension": ".py",
   "mimetype": "text/x-python",
   "name": "python",
   "nbconvert_exporter": "python",
   "pygments_lexer": "ipython3",
   "version": "3.10.11"
  }
 },
 "nbformat": 4,
 "nbformat_minor": 2
}
